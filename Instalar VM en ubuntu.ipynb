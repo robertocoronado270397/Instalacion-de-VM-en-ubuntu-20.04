{
 "cells": [
  {
   "attachments": {},
   "cell_type": "markdown",
   "metadata": {},
   "source": [
    "Hola de esta forma podremos solucionar el error en ubuntu 20.04 Si te aparece este error.\n",
    "\n",
    "Kernel driver not installed (rc=-1908)"
   ]
  },
  {
   "attachments": {},
   "cell_type": "markdown",
   "metadata": {},
   "source": [
    "1-.Abre tu terminal\n",
    "2-.Copia la ruta que te marca en el error (‘/sbin/vboxconfig’)\n",
    "3-.Ingresa este comando en la terminal"
   ]
  },
  {
   "cell_type": "code",
   "execution_count": null,
   "metadata": {},
   "outputs": [],
   "source": [
    "\"\"\"sh\n",
    "sudo /sbin/vboxconfig\n",
    "\"\"\""
   ]
  },
  {
   "attachments": {},
   "cell_type": "markdown",
   "metadata": {},
   "source": [
    "4-.Ingrese su contraseña o si no la tiene configurada presione enter\n",
    "5-.Cierre las VM\n",
    "5-.Se pondra tu terminal en diferente color con un cuadro de texto presione ok\n",
    "6-.Le pedira crear una contraseña y confirmarla\n",
    "7-.Una vez realizado lo regresara a la terminal.\n",
    "8-.Reinicie su computador\n",
    "9-.Aparecera una pantalla azul seleccione la opcione Enroll MDK\n"
   ]
  },
  {
   "attachments": {},
   "cell_type": "markdown",
   "metadata": {},
   "source": [
    "10-.Busca la opcion donde tengas que ingresar la contraseña (No tengo captura de pantalla pero debe de ser algo como keys)\n",
    "11-.Ingresa la contraseña\n",
    "12-.Borra la maquina virtual que habias creado y crea una nueva.\n",
    "13-.Ya configuraste la VM en linux.\n",
    "\n",
    "Saludos."
   ]
  }
 ],
 "metadata": {
  "kernelspec": {
   "display_name": "Python 3",
   "language": "python",
   "name": "python3"
  },
  "language_info": {
   "name": "python",
   "version": "3.10.6"
  },
  "orig_nbformat": 4
 },
 "nbformat": 4,
 "nbformat_minor": 2
}
