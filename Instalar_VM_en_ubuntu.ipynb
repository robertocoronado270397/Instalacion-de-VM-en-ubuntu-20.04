{
  "cells": [
    {
      "cell_type": "code",
      "execution_count": null,
      "metadata": {
        "id": "B5bE6JU7ah-m"
      },
      "outputs": [],
      "source": []
    },
    {
      "attachments": {},
      "cell_type": "markdown",
      "metadata": {
        "id": "m1qHvspRangA"
      },
      "source": [
        "**Hola de esta forma podremos solucionar el error Kernel driver not installed (rc=-1908) en ubuntu 20.04.**"
      ]
    },
    {
      "cell_type": "markdown",
      "metadata": {
        "id": "DKJKyhoHaihl"
      },
      "source": [
        "\n",
        "\n",
        "1.   Abre tu terminal\n",
        "2.   Copia la ruta que te marca en el error (‘/sbin/vboxconfig’)\n",
        "3.   Ingresa este comando en la terminal\n",
        "\n"
      ]
    },
    {
      "cell_type": "markdown",
      "metadata": {
        "id": "c3nziS9wbAf0"
      },
      "source": [
        "\n",
        "\n",
        "```sh\n",
        "sudo /sbin/vboxconfig\n",
        "```\n",
        "\n"
      ]
    },
    {
      "cell_type": "markdown",
      "metadata": {
        "id": "tXUj997zbJkB"
      },
      "source": [
        "4.   Ingrese su contraseña o si no la tiene configurada presione enter\n",
        "5.   Cierre las VM\n",
        "5.   Se pondra tu terminal en diferente color con un cuadro de texto presione ok\n",
        "6.   Le pedira crear una contraseña y confirmarla\n",
        "7.   Una vez realizado lo regresara a la terminal.\n",
        "8.   Reinicie su computador\n",
        "9.   Aparecera una pantalla azul seleccione la opcione Enroll MDK\n"
      ]
    },
    {
      "cell_type": "markdown",
      "metadata": {
        "id": "ut67p3RjbSky"
      },
      "source": [
        "10.   Busca la opcion donde tengas que ingresar la contraseña (No tengo captura de pantalla pero debe de ser algo como keys)\n",
        "11.   Ingresa la contraseña\n",
        "12.   Borra la maquina virtual que habias creado y crea una nueva.\n",
        "13.   Ya configuraste la VM en linux.\n",
        "\n",
        "Saludos."
      ]
    }
  ],
  "metadata": {
    "colab": {
      "provenance": []
    },
    "kernelspec": {
      "display_name": "Python 3",
      "name": "python3"
    },
    "language_info": {
      "name": "python"
    }
  },
  "nbformat": 4,
  "nbformat_minor": 0
}
