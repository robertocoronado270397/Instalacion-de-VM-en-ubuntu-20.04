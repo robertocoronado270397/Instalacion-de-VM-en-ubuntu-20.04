{
  "nbformat": 4,
  "nbformat_minor": 0,
  "metadata": {
    "colab": {
      "provenance": []
    },
    "kernelspec": {
      "name": "python3",
      "display_name": "Python 3"
    },
    "language_info": {
      "name": "python"
    }
  },
  "cells": [
    {
      "cell_type": "code",
      "execution_count": null,
      "metadata": {
        "id": "B5bE6JU7ah-m"
      },
      "outputs": [],
      "source": []
    },
    {
      "cell_type": "markdown",
      "source": [
        "**Hola de esta forma podremos solucionar el error en ubuntu 20.04 Si te aparece este error.**\n",
        "\n",
        "Kernel driver not installed (rc=-1908)"
      ],
      "metadata": {
        "id": "m1qHvspRangA"
      }
    },
    {
      "cell_type": "markdown",
      "source": [
        "\n",
        "\n",
        "1.   Abre tu terminal\n",
        "2.   Copia la ruta que te marca en el error (‘/sbin/vboxconfig’)\n",
        "3.   Ingresa este comando en la terminal\n",
        "\n"
      ],
      "metadata": {
        "id": "DKJKyhoHaihl"
      }
    },
    {
      "cell_type": "markdown",
      "source": [
        "\n",
        "\n",
        "```sh\n",
        "sudo /sbin/vboxconfig\n",
        "```\n",
        "\n"
      ],
      "metadata": {
        "id": "c3nziS9wbAf0"
      }
    },
    {
      "cell_type": "markdown",
      "source": [
        "4.   Ingrese su contraseña o si no la tiene configurada presione enter\n",
        "5.   Cierre las VM\n",
        "5.   Se pondra tu terminal en diferente color con un cuadro de texto presione ok\n",
        "6.   Le pedira crear una contraseña y confirmarla\n",
        "7.   Una vez realizado lo regresara a la terminal.\n",
        "8.   Reinicie su computador\n",
        "9.   Aparecera una pantalla azul seleccione la opcione Enroll MDK\n"
      ],
      "metadata": {
        "id": "tXUj997zbJkB"
      }
    },
    {
      "cell_type": "markdown",
      "source": [
        "10.   Busca la opcion donde tengas que ingresar la contraseña (No tengo captura de pantalla pero debe de ser algo como keys)\n",
        "11.   Ingresa la contraseña\n",
        "12.   Borra la maquina virtual que habias creado y crea una nueva.\n",
        "13.   Ya configuraste la VM en linux.\n",
        "\n",
        "Saludos."
      ],
      "metadata": {
        "id": "ut67p3RjbSky"
      }
    }
  ]
}